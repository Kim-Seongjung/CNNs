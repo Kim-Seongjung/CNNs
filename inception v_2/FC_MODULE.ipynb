{
 "cells": [
  {
   "cell_type": "markdown",
   "metadata": {},
   "source": [
    "# FULLY CONNECTT MODULE"
   ]
  },
  {
   "cell_type": "code",
   "execution_count": null,
   "metadata": {
    "collapsed": true
   },
   "outputs": [],
   "source": [
    "def FC_A(x , n_classes , device_):\n",
    "    with tf.device(device_):\n",
    "    \n",
    "        fully_ch1=1024; fully_ch2=1024\n",
    "\n",
    "        fc_ksize1=[x.get_shape()[1],fully_ch1]\n",
    "        fc_ksize2=[fully_ch1,fully_ch2]\n",
    "\n",
    "        w_fc1 ,b_fc1 = make_weights_biases('fc1' , 'fc_W1' , fc_ksize1 ,  device_)\n",
    "        w_fc2 ,b_fc2 = make_weights_biases('fc2' , 'fc_W2' , fc_ksize2 ,  device_)\n",
    "        \n",
    "        h_fc1=tf.matmul(x, w_fc1 )+b_fc1\n",
    "        h_fc1=tf.nn.dropout(h_fc1 , keep_prob)\n",
    "        h_fc2=tf.matmul(h_fc1 , w_fc2 )+b_fc2\n",
    "        h_fc2=tf.nn.dropout(h_fc2 , keep_prob)\n",
    "        end_fc=h_fc2\n",
    "\n",
    "        end_ksize=[end_fc.get_shape()[1] , n_classes]   \n",
    "        w_end ,b_end = make_weights_biases('fc_end' , 'fc_end_W' , end_ksize ,  device_)\n",
    "        y_conv = tf.matmul(end_fc , w_end)+b_end\n",
    "\n",
    "    return y_conv\n",
    "    "
   ]
  },
  {
   "cell_type": "code",
   "execution_count": null,
   "metadata": {
    "collapsed": true
   },
   "outputs": [],
   "source": [
    "def FC_B(x , n_classes , device_ ):\n",
    "    with tf.device(device_):\n",
    "\n",
    "        end_ksize=[x.get_shape()[1] , n_classes]   \n",
    "        w_end ,b_end = make_weights_biases('fc_end' , 'fc_end_W' , end_ksize ,  device_)\n",
    "        y_conv = tf.matmul(x , w_end)+b_end\n",
    "\n",
    "   \n",
    "    return y_conv"
   ]
  }
 ],
 "metadata": {
  "kernelspec": {
   "display_name": "Python 2",
   "language": "python",
   "name": "python2"
  },
  "language_info": {
   "codemirror_mode": {
    "name": "ipython",
    "version": 2
   },
   "file_extension": ".py",
   "mimetype": "text/x-python",
   "name": "python",
   "nbconvert_exporter": "python",
   "pygments_lexer": "ipython2",
   "version": "2.7.6"
  }
 },
 "nbformat": 4,
 "nbformat_minor": 1
}
