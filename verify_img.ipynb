{
 "cells": [
  {
   "cell_type": "code",
   "execution_count": 1,
   "metadata": {
    "collapsed": false
   },
   "outputs": [
    {
     "name": "stdout",
     "output_type": "stream",
     "text": [
      "(10000, 784)\n",
      "(10000, 28, 28, 1)\n"
     ]
    }
   ],
   "source": [
    "img_row =28\n",
    "img_col =28\n",
    "import numpy as np \n",
    "import matplotlib.pyplot as plt\n",
    "\n",
    "train_img = np.load('/home/ncc/Desktop/npy/test_img.npy')\n",
    "train_lab = np.load('/home/ncc/Desktop/npy/test_lab.npy')\n",
    "def verify_img(train_img , train_lab , row ,col ,ch):\n",
    "    print np.shape(train_img)\n",
    "    n_img = np.shape(train_img)[0]\n",
    "    try:\n",
    "        train_img=np.reshape(train_img , (n_img, 28 , 28, ch))\n",
    "    except:\n",
    "\n",
    "        train_img=np.reshape(train_img , (n_img, 28 , 28 ,ch ))\n",
    "    print np.shape(train_img)\n",
    "    fig, axes = plt.subplots(3, 3)\n",
    "    for i , ax in enumerate(axes.flat):\n",
    "        ax.imshow(train_img[i].reshape(img_row , img_col) , cmap = 'binary')\n",
    "        xlabel = np.argmax(train_lab[i,:])\n",
    "        ax.set_xlabel(xlabel)  \n",
    "        ax.set_xticks([])\n",
    "        ax.set_yticks([])\n",
    "    plt.show()\n",
    "\n",
    "\n",
    "row =28\n",
    "col =28\n",
    "ch =1\n",
    "verify_img(train_img ,train_lab ,row ,col ,ch)"
   ]
  },
  {
   "cell_type": "code",
   "execution_count": null,
   "metadata": {
    "collapsed": true
   },
   "outputs": [],
   "source": []
  }
 ],
 "metadata": {
  "kernelspec": {
   "display_name": "Python 2",
   "language": "python",
   "name": "python2"
  },
  "language_info": {
   "codemirror_mode": {
    "name": "ipython",
    "version": 2
   },
   "file_extension": ".py",
   "mimetype": "text/x-python",
   "name": "python",
   "nbconvert_exporter": "python",
   "pygments_lexer": "ipython2",
   "version": "2.7.12"
  }
 },
 "nbformat": 4,
 "nbformat_minor": 0
}
