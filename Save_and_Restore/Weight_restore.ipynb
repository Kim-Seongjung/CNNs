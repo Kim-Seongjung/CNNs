{
 "cells": [
  {
   "cell_type": "code",
   "execution_count": 1,
   "metadata": {
    "collapsed": true
   },
   "outputs": [],
   "source": [
    "import tensorflow as tf\n",
    "import numpy as np"
   ]
  },
  {
   "cell_type": "code",
   "execution_count": 2,
   "metadata": {
    "collapsed": true
   },
   "outputs": [],
   "source": [
    "ckpt_dir = '/home/seongjung/ckpt/'\n",
    "ckpt = tf.train.get_checkpoint_state(ckpt_dir)"
   ]
  },
  {
   "cell_type": "code",
   "execution_count": 3,
   "metadata": {
    "collapsed": false
   },
   "outputs": [
    {
     "name": "stdout",
     "output_type": "stream",
     "text": [
      "model_checkpoint_path: \"/home/seongjung/ckpt/model.ckpt-0\"\n",
      "all_model_checkpoint_paths: \"/home/seongjung/ckpt/model.ckpt-0\"\n",
      "\n"
     ]
    }
   ],
   "source": [
    "print ckpt"
   ]
  },
  {
   "cell_type": "code",
   "execution_count": 4,
   "metadata": {
    "collapsed": false
   },
   "outputs": [],
   "source": [
    "restore_weight=tf.Variable(tf.random_normal(shape=[100,3,3,200]))"
   ]
  },
  {
   "cell_type": "markdown",
   "metadata": {},
   "source": [
    "# Restore Weight by using Tensorflow Libraries"
   ]
  },
  {
   "cell_type": "code",
   "execution_count": 15,
   "metadata": {
    "collapsed": true
   },
   "outputs": [],
   "source": [
    "sess= tf.Session()\n",
    "init = tf.initialize_all_variables()\n",
    "sess.run(init)\n"
   ]
  },
  {
   "cell_type": "code",
   "execution_count": 16,
   "metadata": {
    "collapsed": false
   },
   "outputs": [
    {
     "name": "stdout",
     "output_type": "stream",
     "text": [
      "/home/seongjung/ckpt/model.ckpt-0\n"
     ]
    }
   ],
   "source": [
    "# sess.run(init)을 하면 값이 새롭게 변한다.\n",
    "saver=tf.train.Saver()\n",
    "\n",
    "if ckpt and ckpt.model_checkpoint_path:\n",
    "    print ckpt.model_checkpoint_path\n",
    "    saver.restore(sess, ckpt.model_checkpoint_path)\n"
   ]
  },
  {
   "cell_type": "code",
   "execution_count": 17,
   "metadata": {
    "collapsed": false
   },
   "outputs": [
    {
     "data": {
      "text/plain": [
       "array([[[[ 0.00026759,  0.01377145,  0.00184474, ..., -0.01121693,\n",
       "          -0.01190161,  0.01072574],\n",
       "         [-0.01562873, -0.006104  , -0.00189979, ..., -0.00197525,\n",
       "           0.00493854, -0.00385588],\n",
       "         [-0.01062109, -0.00068567,  0.00534085, ..., -0.00993118,\n",
       "           0.00999956, -0.00278468]],\n",
       "\n",
       "        [[-0.02012583,  0.0053531 ,  0.0004382 , ..., -0.00533309,\n",
       "           0.00108837, -0.0025009 ],\n",
       "         [-0.02355457, -0.00199188,  0.01979429, ...,  0.00947213,\n",
       "          -0.00291533,  0.00604175],\n",
       "         [ 0.00557393, -0.02275166,  0.02256892, ...,  0.0023706 ,\n",
       "           0.01118727,  0.00888349]],\n",
       "\n",
       "        [[-0.0039496 , -0.00521434,  0.02719777, ..., -0.00034311,\n",
       "           0.00628403, -0.01244741],\n",
       "         [-0.0077551 ,  0.01635455, -0.00077459, ...,  0.0110502 ,\n",
       "          -0.01160066, -0.0106067 ],\n",
       "         [ 0.00160114,  0.00435111,  0.00996533, ...,  0.01650199,\n",
       "          -0.00241655,  0.00867062]]]], dtype=float32)"
      ]
     },
     "execution_count": 17,
     "metadata": {},
     "output_type": "execute_result"
    }
   ],
   "source": [
    "sess.run(restore_weight[0:1])"
   ]
  },
  {
   "cell_type": "markdown",
   "metadata": {},
   "source": [
    "# Restore Weight by using Numpy"
   ]
  },
  {
   "cell_type": "code",
   "execution_count": 10,
   "metadata": {
    "collapsed": false
   },
   "outputs": [
    {
     "data": {
      "text/plain": [
       "array([[[[  2.28030002e-03,  -1.11533068e-02,   7.83384033e-03, ...,\n",
       "           -1.32735092e-02,  -3.02147964e-04,  -2.18213834e-02],\n",
       "         [ -5.01292851e-03,   1.53820263e-02,   6.66177180e-03, ...,\n",
       "            7.70276785e-03,   1.01435429e-03,  -4.84932540e-03],\n",
       "         [ -2.51994226e-02,  -3.75293824e-03,  -7.77117955e-03, ...,\n",
       "            4.75766929e-03,  -9.01878253e-03,   8.51621758e-03]],\n",
       "\n",
       "        [[  5.16112475e-03,   5.65772178e-03,  -8.56201441e-05, ...,\n",
       "            8.33156705e-03,  -2.55804975e-03,   1.54917862e-03],\n",
       "         [ -1.25840399e-02,   1.47432787e-02,   5.85336750e-03, ...,\n",
       "           -2.60936059e-02,  -7.48390099e-03,   1.67302899e-02],\n",
       "         [ -5.93868410e-03,   9.56054498e-03,  -5.88460034e-03, ...,\n",
       "           -6.37023989e-03,   8.16727988e-03,  -1.34214638e-02]],\n",
       "\n",
       "        [[  1.02861505e-02,   5.97366272e-03,  -4.70771361e-03, ...,\n",
       "           -1.96423940e-03,   3.28413001e-03,  -6.85195625e-03],\n",
       "         [  2.46179430e-03,   5.87453041e-03,   2.15403023e-04, ...,\n",
       "           -1.26675265e-02,  -1.88554567e-03,   4.81884880e-03],\n",
       "         [ -7.85424898e-04,  -4.46447218e-03,   2.38507928e-04, ...,\n",
       "            1.21201249e-02,   1.57717373e-02,  -7.11225031e-04]]]], dtype=float32)"
      ]
     },
     "execution_count": 10,
     "metadata": {},
     "output_type": "execute_result"
    }
   ],
   "source": [
    "save_path='/home/seongjung/variable_save/'\n",
    "np.load(save_path+'var.npy' )[0:1]\n"
   ]
  },
  {
   "cell_type": "code",
   "execution_count": null,
   "metadata": {
    "collapsed": true
   },
   "outputs": [],
   "source": []
  }
 ],
 "metadata": {
  "anaconda-cloud": {},
  "kernelspec": {
   "display_name": "Python [conda env:tensorflow]",
   "language": "python",
   "name": "conda-env-tensorflow-py"
  },
  "language_info": {
   "codemirror_mode": {
    "name": "ipython",
    "version": 2
   },
   "file_extension": ".py",
   "mimetype": "text/x-python",
   "name": "python",
   "nbconvert_exporter": "python",
   "pygments_lexer": "ipython2",
   "version": "2.7.13"
  }
 },
 "nbformat": 4,
 "nbformat_minor": 1
}
