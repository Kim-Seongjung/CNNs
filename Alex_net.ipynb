{
 "cells": [
  {
   "cell_type": "code",
   "execution_count": 1,
   "metadata": {
    "collapsed": false
   },
   "outputs": [
    {
     "name": "stdout",
     "output_type": "stream",
     "text": [
      "(2221, 64, 64, 3)\n",
      "64 64\n",
      "64 64\n"
     ]
    }
   ],
   "source": [
    "#conv Neural Network\n",
    "#tensorboard --logdir=/home/ncc/notebook/learn/tensorboard/log\n",
    "#save_and_restore =Not yet\n",
    "#tensorboard = Not yet\n",
    "\"\"\"\n",
    "created by kim Seong jung , Medi-Whale.Inc \n",
    "\"\"\"\n",
    "\n",
    "import numpy as np \n",
    "import tensorflow as tf\n",
    "\n",
    "import math\n",
    "import time\n",
    "import matplotlib.pyplot as plt\n",
    "%matplotlib inline\n",
    "import os \n",
    "\n",
    "file_locate='/media/seongjung/Seagate Backup Plus Drive/data/test/'\n",
    "sess = tf.InteractiveSession()\n",
    "test_img=np.load(file_locate+'test_img.npy');\n",
    "print np.shape(test_img)\n",
    "img_row = np.shape(test_img)[1]\n",
    "img_col = np.shape(test_img)[2]\n",
    "\n",
    "batch_size=30\n",
    "print img_row ,img_col\n",
    "n_classes =2\n",
    "in_ch =3\n",
    "out_ch1=48\n",
    "out_ch2=128*2\n",
    "out_ch3=192*2\n",
    "out_ch4=192*2\n",
    "out_ch5=128*2\n",
    "\n",
    "\n",
    "fully_ch1=2048*2\n",
    "fully_ch2 =2048*2\n",
    "fully_ch3 =1024\n",
    "\n",
    "\n",
    "############convolution layer setting#############\n",
    "conv_weight_1 =[1,11,11,1]\n",
    "conv_weight_2 =[1,5,5,1]\n",
    "conv_weight_3 =[1,3,3,1]\n",
    "conv_weight_4 =[1,3,3,1]\n",
    "conv_weight_5 =[1,3,3,1]\n",
    "\n",
    "conv_strides_1=[1,4,4,1]\n",
    "conv_strides_2=[1,5,5,1]\n",
    "conv_strides_3=[1,3,3,1]\n",
    "conv_strides_4=[1,3,3,1]\n",
    "conv_strides_5=[1,3,3,1]\n",
    "\n",
    "############pooling layer settting #############\n",
    "\n",
    "pool_weight_1=[1,3,3,1]\n",
    "pool_weight_2=[1,3,3,1]\n",
    "pool_wieght_5=[1,3,3,1]\n",
    "\n",
    "pool_strides_1=[1,2,2,1]\n",
    "pool_strides_2=[1,2,2,1]\n",
    "pool_strides_5=[1,2,2,1]\n",
    "\n",
    "\n",
    "#############################################################################################################\n",
    "#                                                  AlexNet                                                  #\n",
    "# layer1                                                                                                    #\n",
    "# conv1 <kernel size : 1,11,11,1> <strides : 1,4,4,1> -->lrn-->relu--> max pooling <K 1,3,3,1> ,<S 1,2,2,1 >#\n",
    "# conv2 <kernel size : 1,5,5,1> <strides : 1,1,1,1> -->lrn-->relu--> max pooling <K 1,3,3,1> ,<S 1,2,2,1 >  #\n",
    "# conv3 <kernel size : 1,3,3,1> <strides : 1,1,1,1>                                                         #\n",
    "# conv4 <kernel size : 1,3,3,1> <strides : 1,1,1,1>                                                         #\n",
    "# conv5 <kernel size : 1,3,3,1> <strides : 1,1,1,1>-->lrn-->relu--> max pooling <K 1,3,3,1> ,<S 1,2,2,1 >   #\n",
    "# fc1-->matmul-->relu-->dropout                                                                             #                       \n",
    "# fc2-->matmul-->relu-->dropout                                                                             #\n",
    "# softmax-->y_conv                                                                                          #\n",
    "#############################################################################################################\n",
    "\n",
    "\n",
    "\n",
    "\n",
    "x= tf.placeholder(\"float\",shape=[None,img_col , img_row , 3],  name = 'x-input')\n",
    "y_=tf.placeholder(\"float\",shape=[None , n_classes] , name = 'y-input')\n",
    "keep_prob = tf.placeholder(\"float\")\n",
    "\n",
    "x_image= tf.reshape(x,[-1,img_row,img_col,3])\n",
    "\n",
    "iterate=300\n",
    "\n",
    "\n",
    "\n",
    "\n",
    "pooling_row_size1=int(img_row/2)\n",
    "pooling_row_size2=int(pooling_row_size1/2)\n",
    "pooling_row_size3=int(pooling_row_size2/2)\n",
    "pooling_row_size4=int(pooling_row_size3/2)\n",
    "pooling_row_size5=int(pooling_row_size4/2)\n",
    "pooling_col_size1=int(img_col/2)\n",
    "pooling_col_size2=int(pooling_col_size1/2)\n",
    "pooling_col_size3=int(pooling_col_size2/2)\n",
    "pooling_col_size4=int(pooling_col_size3/2)\n",
    "pooling_col_size5=int(pooling_col_size4/2)\n",
    "\n",
    "print img_col , img_row"
   ]
  },
  {
   "cell_type": "raw",
   "metadata": {},
   "source": [
    "\n",
    "\n",
    "# (self.feed('data')\n",
    "\n",
    "#         .conv(11, 11, 96, 4, 4, padding='VALID', name='conv1')\n",
    "\n",
    "#         .lrn(2, 2e-05, 0.75, name='norm1')\n",
    "\n",
    "#         .max_pool(3, 3, 2, 2, padding='VALID', name='pool1')\n",
    "\n",
    "#         .conv(5, 5, 256, 1, 1, group=2, name='conv2')\n",
    "\n",
    "#         .lrn(2, 2e-05, 0.75, name='norm2')\n",
    "\n",
    "#         .max_pool(3, 3, 2, 2, padding='VALID', name='pool2')\n",
    "\n",
    "#         .conv(3, 3, 384, 1, 1, name='conv3')\n",
    "\n",
    "#         .conv(3, 3, 384, 1, 1, group=2, name='conv4')\n",
    "\n",
    "#         .conv(3, 3, 256, 1, 1, group=2, name='conv5')\n",
    "\n",
    "#         .fc(4096, name='fc6')\n",
    "\n",
    "#         .fc(4096, name='fc7')\n",
    "\n",
    "#         .fc(1000, relu=False, name='fc8')\n",
    "\n",
    "#         .softmax(name='prob'))\n",
    "\n"
   ]
  },
  {
   "cell_type": "code",
   "execution_count": 2,
   "metadata": {
    "collapsed": false,
    "scrolled": false
   },
   "outputs": [
    {
     "name": "stdout",
     "output_type": "stream",
     "text": [
      "Training Data (2221, 64, 64, 3)\n",
      "Training Data Label (2221, 2)\n",
      "Test Data Label (2221, 2)\n",
      "val Data Label (2221, 64, 64, 3)\n"
     ]
    }
   ],
   "source": [
    "with tf.device('/gpu:3'):\n",
    "    #with tf.device('/gpu:1'):\n",
    "    train_img=np.load(file_locate+'train_img.npy');\n",
    "    train_lab=np.load(file_locate+'train_lab.npy');\n",
    "    val_img= np.load(file_locate+'val_img.npy');\n",
    "    val_lab = np.load(file_locate+'val_lab.npy');\n",
    "    test_img=np.load(file_locate+'test_img.npy');\n",
    "    test_lab=np.load(file_locate+'test_lab.npy');\n",
    "\n",
    "    print \"Training Data\",np.shape(train_img)\n",
    "    print \"Training Data Label\",np.shape(train_lab)\n",
    "    print \"Test Data Label\",np.shape(test_lab)\n",
    "    print \"val Data Label\" , np.shape(val_img)\n",
    "\n",
    "    n_train= np.shape(train_img)[0]\n",
    "    n_train_lab = np.shape(train_lab)[0]"
   ]
  },
  {
   "cell_type": "code",
   "execution_count": 3,
   "metadata": {
    "collapsed": false
   },
   "outputs": [],
   "source": [
    "\"\"\"def weight_variable(name,shape):\n",
    "    #initial = tf.truncated_normal(shape , stddev=0.1)\n",
    "    initial = tf.get_variable(name,shape=shape , initializer = tf.contrib.layers.xavier_initializer())\n",
    "    return tf.Variable(initial)\"\"\"\n",
    "with tf.device('/gpu:0'):\n",
    "    def bias_variable(shape):\n",
    "        initial = tf.constant(0.1 , shape=shape)\n",
    "        return tf.Variable(initial)\n",
    "\n"
   ]
  },
  {
   "cell_type": "code",
   "execution_count": 4,
   "metadata": {
    "collapsed": false
   },
   "outputs": [],
   "source": [
    "with tf.device('/gpu:0'):\n",
    "    def next_batch(batch_size , image , label):\n",
    "\n",
    "        a=np.random.randint(np.shape(image)[0] -batch_size)\n",
    "        batch_x = image[a:a+batch_size,:]\n",
    "        batch_y= label[a:a+batch_size,:]\n",
    "        return batch_x, batch_y\n"
   ]
  },
  {
   "cell_type": "code",
   "execution_count": 2,
   "metadata": {
    "collapsed": false
   },
   "outputs": [
    {
     "ename": "NameError",
     "evalue": "name 'tf' is not defined",
     "output_type": "error",
     "traceback": [
      "\u001b[0;31m---------------------------------------------------------------------------\u001b[0m",
      "\u001b[0;31mNameError\u001b[0m                                 Traceback (most recent call last)",
      "\u001b[0;32m<ipython-input-2-eca5532bc277>\u001b[0m in \u001b[0;36m<module>\u001b[0;34m()\u001b[0m\n\u001b[0;32m----> 1\u001b[0;31m \u001b[1;32mwith\u001b[0m \u001b[0mtf\u001b[0m\u001b[1;33m.\u001b[0m\u001b[0mdevice\u001b[0m\u001b[1;33m(\u001b[0m\u001b[1;34m'/gpu:0'\u001b[0m\u001b[1;33m)\u001b[0m\u001b[1;33m:\u001b[0m\u001b[1;33m\u001b[0m\u001b[0m\n\u001b[0m\u001b[1;32m      2\u001b[0m \u001b[1;33m\u001b[0m\u001b[0m\n\u001b[1;32m      3\u001b[0m     \u001b[1;32mdef\u001b[0m \u001b[0mconv2d\u001b[0m\u001b[1;33m(\u001b[0m\u001b[0mx\u001b[0m\u001b[1;33m,\u001b[0m\u001b[0mw\u001b[0m\u001b[1;33m,\u001b[0m\u001b[0mstrides_\u001b[0m\u001b[1;33m)\u001b[0m\u001b[1;33m:\u001b[0m\u001b[1;33m\u001b[0m\u001b[0m\n\u001b[1;32m      4\u001b[0m         \u001b[1;32mreturn\u001b[0m \u001b[0mtf\u001b[0m\u001b[1;33m.\u001b[0m\u001b[0mnn\u001b[0m\u001b[1;33m.\u001b[0m\u001b[0mconv2d\u001b[0m\u001b[1;33m(\u001b[0m\u001b[0mx\u001b[0m\u001b[1;33m,\u001b[0m\u001b[0mw\u001b[0m\u001b[1;33m,\u001b[0m \u001b[0mstrides\u001b[0m \u001b[1;33m=\u001b[0m \u001b[0mstrides_\u001b[0m\u001b[1;33m,\u001b[0m \u001b[0mpadding\u001b[0m\u001b[1;33m=\u001b[0m\u001b[1;34m'SAME'\u001b[0m\u001b[1;33m)\u001b[0m\u001b[1;33m\u001b[0m\u001b[0m\n\u001b[1;32m      5\u001b[0m     \u001b[1;32mdef\u001b[0m \u001b[0mmax_pool_2x2\u001b[0m\u001b[1;33m(\u001b[0m\u001b[0mx\u001b[0m\u001b[1;33m)\u001b[0m\u001b[1;33m:\u001b[0m\u001b[1;33m\u001b[0m\u001b[0m\n",
      "\u001b[0;31mNameError\u001b[0m: name 'tf' is not defined"
     ]
    }
   ],
   "source": [
    "with tf.device('/gpu:0'):\n",
    "\n",
    "    def conv2d(x,w,conv_strides_):\n",
    "        return tf.nn.conv2d(x,w, strides = conv_strides_, padding='SAME')\n",
    "    def max_pool(x , ksize=[1,2,2,1] ,  strides = [1,2,2,1], padding = 'SAME'):\n",
    "        return tf.nn.max_pool(x , ksize ,strides , padding)"
   ]
  },
  {
   "cell_type": "code",
   "execution_count": null,
   "metadata": {
    "collapsed": true
   },
   "outputs": [],
   "source": [
    "def local_response_nomalizatino(conv , depth_radius , alpha , beta , bias):\n",
    "    lrn1 = tf.nn.local_response_normalization(conv1,depth_radius=radius,alpha=alpha,beta=beta,bias=bias)\n",
    "    #local_response_nomalizatino radius = 2; alpha = 2e-05; beta = 0.75; bias = 1.0"
   ]
  },
  {
   "cell_type": "code",
   "execution_count": 6,
   "metadata": {
    "collapsed": false
   },
   "outputs": [],
   "source": [
    "with tf.variable_scope(\"layer1\") as scope:\n",
    "    try:\n",
    "        w_conv1 = tf.get_variable(\"W1\",conv_weight_1 , initializer = tf.contrib.layers.xavier_initializer())\n",
    "    except:\n",
    "        scope.reuse_variables()\n",
    "        w_conv1 = tf.get_variable(\"W1\",conv_weight_1 , initializer = tf.contrib.layers.xavier_initializer())\n",
    "with tf.variable_scope(\"layer1\") as scope:\n",
    "    try:\n",
    "        b_conv1 = bias_variable([out_ch1])\n",
    "    except:\n",
    "        scope.reuse_variables()\n",
    "        b_conv1 = bias_variable([out_ch1])\n",
    "                \n",
    "            \n",
    "            \n",
    "with tf.variable_scope('layer2') as scope:\n",
    "    try:\n",
    "        w_conv2 = tf.get_variable(\"W2\",conv_weight_2 , initializer = tf.contrib.layers.xavier_initializer())\n",
    "    except:\n",
    "        scope.reuse_variables()\n",
    "        w_conv2 = tf.get_variable(\"W2\",conv_weight_2 , initializer = tf.contrib.layers.xavier_initializer())\n",
    "        \n",
    "with tf.variable_scope('layer2') as scope:\n",
    "    try:\n",
    "        b_conv2= bias_variable([out_ch2])\n",
    "    except:\n",
    "        scope.reuse_variables()\n",
    "        b_conv2= bias_variable([out_ch2])\n",
    "                \n",
    "with tf.variable_scope('layer3') as scope:\n",
    "    try:\n",
    "        w_conv3 = tf.get_variable(\"W3\" ,conv_weight_3 , initializer = tf.contrib.layers.xavier_initializer())\n",
    "    except:\n",
    "        scope.reuse_variables()\n",
    "        w_conv3 = tf.get_variable(\"W3\" ,conv_weight_3 , initializer = tf.contrib.layers.xavier_initializer())\n",
    "with tf.variable_scope('layer3') as scope:\n",
    "    try:\n",
    "        b_conv3 = bias_variable([out_ch3])\n",
    "    except:\n",
    "        scope.reuse_variables()\n",
    "        b_conv3 = bias_variable([out_ch3])\n",
    "        \n",
    "with tf.variable_scope('layer4') as scope:\n",
    "    try:\n",
    "        w_conv4 =tf.get_variable(\"W4\" ,conv_weight_4 , initializer = tf.contrib.layers.xavier_initializer())\n",
    "    except:\n",
    "        scope.reuse_variables()\n",
    "        w_conv3 = tf.get_variable(\"W4\" ,conv_weight_4 , initializer = tf.contrib.layers.xavier_initializer())\n",
    "with tf.variable_scope('layer4') as scope:\n",
    "    try:\n",
    "        b_conv4 = bias_variable([out_ch4])\n",
    "    except:\n",
    "        scope.reuse_variables()\n",
    "        b_conv3 = bias_variable([out_ch3])\n",
    "        \n",
    "with tf.variable_scope('layer5') as scope:\n",
    "    try:\n",
    "        w_conv5 = tf.get_variable(\"W5\",conv_weight_5 , initializer = tf.contrib.layers.xavier_initializer())\n",
    "    except:\n",
    "        scope.reuse_variables()\n",
    "        w_conv3 = tf.get_variable(\"W5\" ,conv_weight_5 , initializer = tf.contrib.layers.xavier_initializer())\n",
    "with tf.variable_scope('layer5') as scope:\n",
    "    try:\n",
    "        b_conv5 = bias_variable([out_ch5])\n",
    "    except:\n",
    "        scope.reuse_variables()\n",
    "        b_conv3 = bias_variable([out_ch3])\n",
    "                "
   ]
  },
  {
   "cell_type": "code",
   "execution_count": 7,
   "metadata": {
    "collapsed": false
   },
   "outputs": [
    {
     "name": "stdout",
     "output_type": "stream",
     "text": [
      "Tensor(\"Relu:0\", shape=(?, 32, 32, 100), dtype=float32, device=/device:GPU:0)\n",
      "Tensor(\"MaxPool:0\", shape=(?, 16, 16, 100), dtype=float32, device=/device:GPU:0)\n",
      "Tensor(\"Relu_2:0\", shape=(?, 16, 16, 100), dtype=float32, device=/device:GPU:0)\n",
      "Tensor(\"Relu_3:0\", shape=(?, 16, 16, 100), dtype=float32, device=/device:GPU:0)\n",
      "Tensor(\"MaxPool_2:0\", shape=(?, 8, 8, 100), dtype=float32, device=/device:GPU:0)\n"
     ]
    }
   ],
   "source": [
    "#conncect hidden layer \n",
    "with tf.device('/gpu:0'):\n",
    "    h_conv1 = tf.nn.relu(conv2d(x_image , w_conv1 ,conv_strides_1)+b_conv1)\n",
    "    h_conv1 = local_response_nomalizatino(h_conv1 , radius=2 , alpha=2e-05 , beta = 0.75 , bias = 1.0)\n",
    "    h_conv1 = max_pool(h_conv1 , pool_weight_1 , pool_stries_1)#pooling\n",
    "    \n",
    "    h_conv2 = tf.nn.relu(conv2d(h_conv1 , w_conv2 ,conv_strides_2)+b_conv2)\n",
    "    h_conv2 = local_response_nomalizatino(h_conv2 , radius=2 , alpha=2e-05 , beta = 0.75 , bias = 1.0)    \n",
    "    h_conv2 = max_pool( h_conv2 , pool_weight_2 , pool_stries_2)#pooling\n",
    "    \n",
    "    h_conv3 = tf.nn.relu(conv2d(h_conv2 , w_conv3,conv_strides_3)+b_conv3)\n",
    "    \n",
    "    h_conv4 = tf.nn.relu(conv2d(h_conv3 , w_conv4,conv_strides_4)+b_conv4)\n",
    "    \n",
    "    h_conv5 = tf.nn.relu(conv2d(h_conv4, w_conv5,conv_strides_5)+b_conv5)\n",
    "    h_conv5 = local_response_nomalizatino(h_conv5 , radius=2 , alpha=2e-05 , beta = 0.75 , bias = 1.0)\n",
    "    h_conv5= max_pool( h_conv5,pool_weight_5 , pool_stries_5) #pooling \n",
    "#\n",
    "    def max_pool(x , ksize=[1,2,2,1] ,  strides = [1,2,2,1], padding = 'SAME'):\n",
    "    print h_conv1\n",
    "    print h_conv2\n",
    "    print h_conv3\n",
    "    print h_conv4\n",
    "    print h_conv5\n",
    "    \n",
    "    \n",
    "    end_conv = h_conv5\n",
    "    #print conv2d(h_pool1 , w_conv2).get_shape()\n"
   ]
  },
  {
   "cell_type": "code",
   "execution_count": 8,
   "metadata": {
    "collapsed": false
   },
   "outputs": [
    {
     "name": "stdout",
     "output_type": "stream",
     "text": [
      "(3, 3, 3, 100)\n"
     ]
    }
   ],
   "source": [
    "print w_conv1.get_shape()\n"
   ]
  },
  {
   "cell_type": "code",
   "execution_count": 9,
   "metadata": {
    "collapsed": false
   },
   "outputs": [],
   "source": [
    "end_conv_row=int(h_conv5.get_shape()[1])\n",
    "end_conv_col=int(h_conv5.get_shape()[2])\n",
    "end_conv_ch=int(h_conv5.get_shape()[3])\n",
    "#connect fully connected layer \n",
    "with tf.device('/gpu:0'):\n",
    "    with tf.variable_scope(\"fc1\") as scope:\n",
    "        try:\n",
    "            w_fc1=tf.get_variable(\"fc1_W\",[end_conv_col*end_conv_row*end_conv_ch,fully_ch1] , initializer = tf.contrib.layers.xavier_initializer())\n",
    "        except:\n",
    "            scope.reuse_variables()\n",
    "            w_fc1=tf.get_variable(\"fc1_W\",[end_conv_col*end_conv_row*end_conv_ch,fully_ch1] , initializer = tf.contrib.layers.xavier_initializer())\n",
    "        try:\n",
    "            b_fc1 = bias_variable([fully_ch1])\n",
    "        except:\n",
    "            scope.reuse_variables()\n",
    "            b_fc1 = bias_variable([fully_ch1])\n",
    "\n",
    "        \n",
    "with tf.device('/gpu:0'): # flat conv layer \n",
    "    end_flat_conv =tf.reshape(end_conv, [-1,end_conv_col*end_conv_row*end_conv_ch])\n",
    "   \n",
    "with tf.device('/gpu:0'): # connect flat layer with fully  connnected layer \n",
    "    h_fc1 = tf.nn.relu(tf.matmul(end_flat_conv , w_fc1)+ b_fc1)\n",
    "    h_fc1 = tf.nn.dropout(h_fc1, keep_prob)"
   ]
  },
  {
   "cell_type": "code",
   "execution_count": 10,
   "metadata": {
    "collapsed": false
   },
   "outputs": [],
   "source": [
    "with tf.device('/gpu:0'):\n",
    "    with tf.variable_scope('fc2') as scope:\n",
    "        try:\n",
    "            w_fc2 =tf.get_variable(\"fc2_W\",[fully_ch1 , fully_ch2],initializer = tf.contrib.layers.xavier_initializer())\n",
    "        except:\n",
    "            scope.reuse_variables()\n",
    "            w_fc2 =tf.get_variable(\"fc2_W\",[fully_ch1 , fully_ch2],initializer = tf.contrib.layers.xavier_initializer())\n",
    "        try:\n",
    "            b_fc2 = bias_variable([fully_ch2])\n",
    "        except:\n",
    "            scope.reuse_variables()\n",
    "            b_fc2 = bias_variable([fully_ch2])\n",
    "\n",
    "with tf.device('/gpu:0'):  # join flat layer with fully  connnected layer \n",
    "    h_fc2 = tf.nn.relu(tf.matmul(h_fc1 , w_fc2)+b_fc2)\n",
    "    h_fc2= tf.nn.dropout(h_fc2 , keep_prob)\n",
    "    "
   ]
  },
  {
   "cell_type": "raw",
   "metadata": {
    "collapsed": false
   },
   "source": [
    "with tf.device('/gpu:0'):\n",
    "    with tf.variable_scope('fc3') as scope:\n",
    "        try:\n",
    "            w_fc3 =tf.get_variable(\"fc3_W\",[fully_ch2 , fully_ch3],initializer = tf.contrib.layers.xavier_initializer())\n",
    "        except:\n",
    "            scope.reuse_variables()\n",
    "            w_fc3 =tf.get_variable(\"fc3_W\",[fully_ch2 , fully_ch3],initializer = tf.contrib.layers.xavier_initializer())\n",
    "        try:\n",
    "            b_fc3 = bias_variable([fully_ch3])\n",
    "        except:\n",
    "            scope.reuse_variables()\n",
    "            b_fc3 = bias_variable([fully_ch3])\n",
    "\n",
    "with tf.device('/gpu:0'):  # join flat layer with fully  connnected layer \n",
    "    h_fc3 = tf.nn.relu(tf.matmul(h_fc2 , w_fc3)+b_fc3)\n",
    "    h_fc3= tf.nn.dropout(h_fc3 , keep_prob)\n",
    "    "
   ]
  },
  {
   "cell_type": "code",
   "execution_count": 12,
   "metadata": {
    "collapsed": true
   },
   "outputs": [],
   "source": [
    "end_fc=h_fc2\n",
    "end_ch=fully_ch2"
   ]
  },
  {
   "cell_type": "code",
   "execution_count": 13,
   "metadata": {
    "collapsed": false
   },
   "outputs": [],
   "source": [
    "with tf.device('/gpu:0'):\n",
    "    with tf.variable_scope('end') as scope:\n",
    "        try:\n",
    "            w_end =tf.get_variable(\"end_W\",[end_ch, n_classes ],initializer = tf.contrib.layers.xavier_initializer())\n",
    "        except:\n",
    "            scope.reuse_variables()\n",
    "            w_end =tf.get_variable(\"end_W\",[end_ch , n_classes],initializer = tf.contrib.layers.xavier_initializer())\n",
    "        try:\n",
    "            b_end = bias_variable([n_classes])\n",
    "        except:\n",
    "            scope.reuse_variables()\n",
    "            b_end = bias_variable([n_classes])\n",
    "\n",
    "with tf.device('/gpu:0'):  # join flat layer with fully  connnected layer \n",
    "    y_conv = tf.nn.relu(tf.matmul(end_fc , w_end)+b_end)\n",
    "    "
   ]
  },
  {
   "cell_type": "code",
   "execution_count": 14,
   "metadata": {
    "collapsed": false
   },
   "outputs": [
    {
     "name": "stdout",
     "output_type": "stream",
     "text": [
      "it is recorded at :4\n"
     ]
    }
   ],
   "source": [
    "#dirname = '/home/ncc/notebook/mammo/result/'\n",
    "\n",
    "dirname='/home/seongjung/바탕화면/thyroid/result'\n",
    "\n",
    "count=0\n",
    "while(True):\n",
    "    if not os.path.isdir(dirname):\n",
    "        os.mkdir(dirname)\n",
    "        break\n",
    "    elif not os.path.isdir(dirname + str(count)):\n",
    "        dirname=dirname+str(count)\n",
    "        os.mkdir(dirname)\n",
    "        break\n",
    "    else:\n",
    "        count+=1\n",
    "print 'it is recorded at :'+str(count)"
   ]
  },
  {
   "cell_type": "code",
   "execution_count": 15,
   "metadata": {
    "collapsed": false
   },
   "outputs": [],
   "source": [
    "f=open(dirname+\"/log.txt\",'w')"
   ]
  },
  {
   "cell_type": "code",
   "execution_count": 16,
   "metadata": {
    "collapsed": false,
    "scrolled": true
   },
   "outputs": [
    {
     "name": "stdout",
     "output_type": "stream",
     "text": [
      "WARNING:tensorflow:From <ipython-input-16-4385c7ef5493>:18 in <module>.: initialize_all_variables (from tensorflow.python.ops.variables) is deprecated and will be removed after 2017-03-02.\n",
      "Instructions for updating:\n",
      "Use `tf.global_variables_initializer` instead.\n",
      "step 0 , training  accuracy 0.4\n",
      "step 0 , loss : 3.78519\n",
      "step 0 , validation  accuracy 0.507879\n",
      "step 0 , validation loss : 181.764\n",
      "step 100 , training  accuracy 0.433333\n",
      "step 100 , loss : 0.724219\n",
      "step 100 , validation  accuracy 0.552004\n",
      "step 100 , validation loss : 1.88756\n",
      "step 200 , training  accuracy 0.6\n",
      "step 200 , loss : 0.705425\n",
      "step 200 , validation  accuracy 0.499325\n",
      "step 200 , validation loss : 2.15201\n",
      "--- Training Time : 28.4248709679 ---\n"
     ]
    }
   ],
   "source": [
    "with tf.device('/gpu:0'):\n",
    "#sm_conv= tf.nn.softmax(y_conv)\n",
    "    #cross_entropy = -tf.reduce_sum(y_*tf.log(y_conv))\n",
    "    start_time = time.time()\n",
    "\n",
    "    regular=0.01*(tf.reduce_sum(tf.square(y_conv)))\n",
    "    cost = tf.reduce_mean(tf.nn.softmax_cross_entropy_with_logits( y_conv, y_))\n",
    "with tf.device('/gpu:0'):\n",
    "    cost = cost+regular\n",
    "    train_step = tf.train.AdamOptimizer(1e-4).minimize(cost) #1e-4\n",
    "    with tf.name_scope(\"accuracy\"):\n",
    "        with tf.name_scope('correct_prediction'):\n",
    "            correct_prediction = tf.equal(tf.argmax(y_conv,1) ,tf.argmax(y_,1))\n",
    "        with tf.name_scope('accuracy'):\n",
    "            accuracy = tf.reduce_mean(tf.cast(correct_prediction , \"float\")) \n",
    "\n",
    "    sess = tf.Session()\n",
    "    sess.run(tf.initialize_all_variables())\n",
    "\n",
    "for i in range(iterate):\n",
    "    \n",
    "    batch_xs , batch_ys = next_batch(batch_size, train_img , train_lab)\n",
    "   # batch_val_xs  , batch_val_ys = next_batch(20 , val_img , val_lab)\n",
    "    if i%100 ==0: # in here add to validation \n",
    "        try:\n",
    "            val_accuracy = sess.run( accuracy , feed_dict={x:val_img , y_:val_lab , keep_prob: 1.0})        \n",
    "            val_loss = sess.run(cost , feed_dict = {x:val_img , y_: val_lab , keep_prob: 1.0})\n",
    "            \n",
    "            train_accuracy = sess.run( accuracy , feed_dict={x:batch_xs , y_:batch_ys , keep_prob: 1.0})        \n",
    "            train_loss = sess.run(cost , feed_dict = {x:batch_xs, y_: batch_ys, keep_prob: 1.0})\n",
    "\n",
    "            #result = sess.run(sm_conv , feed_dict = {x:val_img , y_:batch_ys , keep_prob :1.0})\n",
    "            print(\"step %d , training  accuracy %g\" %(i,train_accuracy))\n",
    "            print(\"step %d , loss : %g\" %(i,train_loss))\n",
    "            train_str = 'step:\\t'+str(i)+'\\tval_loss:\\t'+str(train_loss) +'\\tval accuracy:\\t'+str(train_accuracy)+'\\n'\n",
    "          \n",
    "            print(\"step %d , validation  accuracy %g\" %(i,val_accuracy))\n",
    "            print(\"step %d , validation loss : %g\" %(i,val_loss))\n",
    "            val_str = 'step:\\t'+str(i)+'\\tval_loss:\\t'+str(val_loss) +'\\tval accuracy:\\t'+str(val_accuracy)+'\\n'\n",
    "            \n",
    "            \n",
    "            f.write(val_str)\n",
    "            f.write(train_str)\n",
    "        except :\n",
    "            list_acc=[]\n",
    "            list_loss=[]\n",
    "            n_divide=len(val_img)/batch_size\n",
    "            for j in range(n_divide):\n",
    "                \n",
    "                # j*batch_size :(j+1)*batch_size\n",
    "                val_accuracy,val_loss = sess.run([accuracy ,cost], feed_dict={x:val_img[ j*batch_size :(j+1)*batch_size] , y_:val_lab[ j*batch_size :(j+1)*batch_size ] , keep_prob: 1.0})        \n",
    "                list_acc.append(float(val_accuracy))\n",
    "                list_loss.append(float(val_loss))\n",
    "            val_accuracy , val_loss=sess.run([accuracy,cost] , feed_dict={x:val_img[(j+1)*batch_size : ] , y_:val_lab[(j+1)*(batch_size) : ] , keep_prob : 1.0})\n",
    "            #right above code have to modify\n",
    "            \n",
    "            list_acc.append(val_accuracy)\n",
    "            list_loss.append(val_loss)\n",
    "            list_acc=np.asarray(list_acc)\n",
    "            list_loss= np.asarray(list_loss)\n",
    "            \n",
    "            val_accuracy=np.mean(list_acc)\n",
    "            val_loss = np.mean(list_loss)\n",
    "            \n",
    "            #result = sess.run(sm_conv , feed_dict = {x:val_img , y_:batch_ys , keep_prob :1.0})\n",
    "            \n",
    "            train_accuracy = sess.run( accuracy , feed_dict={x:batch_xs , y_:batch_ys , keep_prob: 1.0})        \n",
    "            train_loss = sess.run(cost , feed_dict = {x:batch_xs, y_: batch_ys, keep_prob: 1.0})\n",
    "\n",
    "            print(\"step %d , training  accuracy %g\" %(i,train_accuracy))\n",
    "            print(\"step %d , loss : %g\" %(i,train_loss))\n",
    "            train_str = 'step:\\t'+str(i)+'\\tval_loss:\\t'+str(train_loss) +'\\tval accuracy:\\t'+str(train_accuracy)+'\\n'\n",
    "            \n",
    "            print(\"step %d , validation  accuracy %g\" %(i,val_accuracy))\n",
    "            print(\"step %d , validation loss : %g\" %(i,val_loss))\n",
    "            val_str = 'step:\\t'+str(i)+'\\tval_loss:\\t'+str(val_loss) +'\\tval accuracy:\\t'+str(val_accuracy)+'\\n'\n",
    "           \n",
    "            \n",
    "            f.write(val_str)\n",
    "            f.write(train_str)\n",
    "    \n",
    "    sess.run(train_step ,feed_dict={x:batch_xs , y_:batch_ys , keep_prob : 0.7})\n",
    "print(\"--- Training Time : %s ---\" % (time.time() - start_time))\n",
    "train_time=\"--- Training Time : ---:\\t\" +str(time.time() - start_time)\n",
    "f.write(train_time)"
   ]
  },
  {
   "cell_type": "code",
   "execution_count": 17,
   "metadata": {
    "collapsed": false
   },
   "outputs": [
    {
     "name": "stdout",
     "output_type": "stream",
     "text": [
      "step 299 , testidation  accuracy 0.566411\n",
      "step 299 , testidation loss : 1.10349\n"
     ]
    }
   ],
   "source": [
    "try:\n",
    "    test_accuracy = sess.run( accuracy , feed_dict={x:test_img , y_:test_lab , keep_prob: 1.0})        \n",
    "    test_loss = sess.run(cost , feed_dict = {x:test_img , y_: test_lab , keep_prob: 1.0})\n",
    "\n",
    "    #result = sess.run(sm_conv , feed_dict = {x:test_img , y_:batch_ys , keep_prob :1.0})\n",
    "    print(\"step %d , testidation  accuracy %g\" %(i,test_accuracy))\n",
    "    print(\"step %d , testidation loss : %g\" %(i,test_loss))\n",
    "    test_str = 'step:\\t'+str(i)+'\\ttest_loss:\\t'+str(test_loss) +'\\ttest accuracy:\\t'+str(test_accuracy)+'\\n'\n",
    "\n",
    "    f.write(test_str)\n",
    "except :\n",
    "    list_acc=[]\n",
    "    list_loss=[]\n",
    "    n_divide=len(test_img)/batch_size\n",
    "    for j in range(n_divide):\n",
    "\n",
    "        # j*batch_size :(j+1)*batch_size\n",
    "        test_accuracy,test_loss = sess.run([accuracy ,cost], feed_dict={x:test_img[ j*batch_size :(j+1)*batch_size] , y_:test_lab[ j*batch_size :(j+1)*batch_size ] , keep_prob: 1.0})        \n",
    "        list_acc.append(float(test_accuracy))\n",
    "        list_loss.append(float(test_loss))\n",
    "    test_accuracy , test_loss=sess.run([accuracy,cost] , feed_dict={x:test_img[(j+1)*batch_size : ] , y_:test_lab[(j+1)*(batch_size) : ] , keep_prob : 1.0})\n",
    "    #right above code have to modify\n",
    "\n",
    "    list_acc.append(test_accuracy)\n",
    "    list_loss.append(test_loss)\n",
    "    list_acc=np.asarray(list_acc)\n",
    "    list_loss= np.asarray(list_loss)\n",
    "\n",
    "    test_accuracy=np.mean(list_acc)\n",
    "    test_loss = np.mean(list_loss)\n",
    "\n",
    "    #result = sess.run(sm_conv , feed_dict = {x:test_img , y_:batch_ys , keep_prob :1.0})\n",
    "    print(\"step %d , testidation  accuracy %g\" %(i,test_accuracy))\n",
    "    print(\"step %d , testidation loss : %g\" %(i,test_loss))\n",
    "    test_str = 'step:\\t'+str(i)+'\\ttest_loss:\\t'+str(test_loss) +'\\ttest accuracy:\\t'+str(test_accuracy)+'\\n'\n",
    "\n",
    "    f.write(test_str)\n"
   ]
  },
  {
   "cell_type": "code",
   "execution_count": 18,
   "metadata": {
    "collapsed": true
   },
   "outputs": [],
   "source": [
    "sess.close()\n"
   ]
  }
 ],
 "metadata": {
  "anaconda-cloud": {},
  "kernelspec": {
   "display_name": "Python 2",
   "language": "python",
   "name": "python2"
  },
  "language_info": {
   "codemirror_mode": {
    "name": "ipython",
    "version": 2
   },
   "file_extension": ".py",
   "mimetype": "text/x-python",
   "name": "python",
   "nbconvert_exporter": "python",
   "pygments_lexer": "ipython2",
   "version": "2.7.10"
  }
 },
 "nbformat": 4,
 "nbformat_minor": 0
}
