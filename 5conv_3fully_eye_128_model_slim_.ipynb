{
 "cells": [
  {
   "cell_type": "code",
   "execution_count": 1,
   "metadata": {
    "collapsed": false
   },
   "outputs": [
    {
     "name": "stdout",
     "output_type": "stream",
     "text": [
      "(2789, 128, 128, 3)\n",
      "128 128\n",
      "128 128\n"
     ]
    }
   ],
   "source": [
    "#conv Neural Network\n",
    "# tensorboard --logdir=/home/ncc/notebook/learn/tensorboard/log\n",
    "\"\"\"\n",
    "created by kim Seong jung\n",
    "\n",
    "\"\"\"\n",
    "import numpy as np \n",
    "import tensorflow as tf\n",
    "import re\n",
    "\n",
    "import math\n",
    "import time\n",
    "import matplotlib.pyplot as plt\n",
    "%matplotlib inline\n",
    "import os \n",
    "\n",
    "file_locate='/home/user01/notebook/eye_numpy_64/'\n",
    "sess = tf.InteractiveSession()\n",
    "test_img=np.load(file_locate+'test_img.npy');\n",
    "try:\n",
    "    print np.shape(test_img)\n",
    "    img_row = np.shape(test_img)[1]\n",
    "    img_col = np.shape(test_img)[2]\n",
    "except:\n",
    "    np.shape(test_img)\n",
    "    test_img=np.reshape(test_img , newshape = [np.shape(test_img)[0] , 32, 32 ,3] )\n",
    "    img_row = np.shape(test_img)[1]\n",
    "    img_col = np.shape(test_img)[2]\n",
    "\n",
    "    \n",
    "divide_flag= False\n",
    "aug_flag = False\n",
    "save_flag = False\n",
    "restore_flag = False\n",
    "batch_size=30\n",
    "print img_row ,img_col\n",
    "n_classes =2\n",
    "in_ch =3\n",
    "out_ch1=300\n",
    "out_ch2=300\n",
    "out_ch3=300\n",
    "out_ch4=300\n",
    "out_ch5=300\n",
    "\n",
    "\n",
    "fully_ch1=2048\n",
    "fully_ch2 =2048\n",
    "fully_ch3 =1024\n",
    "\n",
    "\n",
    "\n",
    "c_ksize1 =[11,11,in_ch , out_ch1]\n",
    "c_ksize2 =[5,5, out_ch1, out_ch2]\n",
    "c_ksize3 =[3,3, out_ch2, out_ch3]\n",
    "c_ksize4 =[3,3, out_ch3, out_ch4]\n",
    "c_ksize5 =[3,3, out_ch4, out_ch5]\n",
    "\n",
    "c_strides1=[1,4,4,1]\n",
    "c_strides2=[1,1,1,1]\n",
    "c_strides3=[1,1,1,1]\n",
    "c_strides4=[1,1,1,1]\n",
    "c_strides5=[1,1,1,1]\n",
    "\n",
    "\n",
    "\n",
    "p_ksize1=[1,3,3,1]\n",
    "p_ksize2=[1,3,3,1]\n",
    "p_ksize5=[1,3,3,1]\n",
    "\n",
    "p_strides1=[1,2,2,1]\n",
    "p_strides2=[1,2,2,1]\n",
    "p_strides5=[1,2,2,1]\n",
    "\n",
    "iterate=30000\n",
    "\n",
    "\n",
    "\n",
    "\n",
    "print img_col , img_row"
   ]
  },
  {
   "cell_type": "code",
   "execution_count": 2,
   "metadata": {
    "collapsed": false
   },
   "outputs": [],
   "source": [
    "if aug_flag == False:\n",
    "    x= tf.placeholder(\"float\",shape=[None,img_row , img_col , in_ch],  name = 'x-input')\n",
    "    y_=tf.placeholder(\"float\",shape=[None , n_classes] , name = 'y-input')\n",
    "    keep_prob = tf.placeholder(\"float\")\n",
    "\n",
    "    x_image= tf.reshape(x,[-1,img_row,img_col,3])\n",
    "\n",
    "elif aug_flag == True:\n",
    "    crop_img_col =118\n",
    "    crop_img_row =118\n",
    "    \n",
    "    x= tf.placeholder(\"float\",shape=[None,crop_img_row , crop_img_row , in_ch],  name = 'x-input')\n",
    "    y_=tf.placeholder(\"float\",shape=[None , n_classes] , name = 'y-input')\n",
    "    keep_prob = tf.placeholder(\"float\")\n",
    "\n",
    "    x_image= tf.reshape(x,[-1,crop_img_row,crop_img_col,in_ch])\n"
   ]
  },
  {
   "cell_type": "code",
   "execution_count": 3,
   "metadata": {
    "collapsed": false
   },
   "outputs": [
    {
     "data": {
      "text/plain": [
       "'/home/user01/notebook'"
      ]
     },
     "execution_count": 3,
     "metadata": {},
     "output_type": "execute_result"
    }
   ],
   "source": [
    "import os \n",
    "os.getcwd()"
   ]
  },
  {
   "cell_type": "code",
   "execution_count": 4,
   "metadata": {
    "collapsed": false,
    "scrolled": false
   },
   "outputs": [
    {
     "name": "stdout",
     "output_type": "stream",
     "text": [
      "Training Data (22302, 128, 128, 3)\n",
      "Training Data Label (22302, 2)\n",
      "Test Data Label (2789, 2)\n",
      "val Data Label (2787, 128, 128, 3)\n"
     ]
    }
   ],
   "source": [
    "with tf.device('/gpu:3'):\n",
    "#with tf.device('/gpu:1'):\n",
    "\n",
    "    if divide_flag == False:\n",
    "        train_img=np.load(file_locate+'train_img.npy');\n",
    "        train_lab=np.load(file_locate+'train_lab.npy');\n",
    "        val_img= np.load(file_locate+'val_img.npy');\n",
    "        val_lab = np.load(file_locate+'val_lab.npy');\n",
    "        test_img=np.load(file_locate+'test_img.npy');\n",
    "        test_lab=np.load(file_locate+'test_lab.npy');\n",
    "\n",
    "        print \"Training Data\",np.shape(train_img)\n",
    "        print \"Training Data Label\",np.shape(train_lab)\n",
    "        print \"Test Data Label\",np.shape(test_lab)\n",
    "        print \"val Data Label\" , np.shape(val_img)\n",
    "\n",
    "        n_train= np.shape(train_img)[0]\n",
    "        n_train_lab = np.shape(train_lab)[0]\n",
    "\n",
    "    if divide_flag == True:\n",
    "        train_img=np.load(file_locate+'train_img_1.npy');\n",
    "        train_lab=np.load(file_locate+'train_lab_1.npy');\n",
    "        val_img= np.load(file_locate+'val_img.npy');\n",
    "        val_lab = np.load(file_locate+'val_lab.npy');\n",
    "        test_img=np.load(file_locate+'test_img.npy');\n",
    "        test_lab=np.load(file_locate+'test_lab.npy');\n",
    "\n",
    "        print \"Training Data\",np.shape(train_img)\n",
    "        print \"Training Data Label\",np.shape(train_lab)\n",
    "        print \"Test Data Label\",np.shape(test_lab)\n",
    "        print \"val Data Label\" , np.shape(val_lab)\n",
    "\n",
    "        n_train= np.shape(train_img)[0]\n",
    "        n_train_lab = np.shape(train_lab)[0]\n"
   ]
  },
  {
   "cell_type": "code",
   "execution_count": 5,
   "metadata": {
    "collapsed": false
   },
   "outputs": [],
   "source": [
    "\"\"\"def weight_variable(name,shape):\n",
    "    #initial = tf.truncated_normal(shape , stddev=0.1)\n",
    "    initial = tf.get_variable(name,shape=shape , initializer = tf.contrib.layers.xavier_initializer())\n",
    "    return tf.Variable(initial)\"\"\"\n",
    "\n",
    "def bias_variable(shape):\n",
    "    initial = tf.constant(0.1 , shape=shape)\n",
    "    return tf.Variable(initial)\n",
    "\n"
   ]
  },
  {
   "cell_type": "code",
   "execution_count": 6,
   "metadata": {
    "collapsed": false
   },
   "outputs": [],
   "source": [
    "with tf.device('/gpu:0'):\n",
    "    def next_batch(batch_size , image , label):\n",
    "\n",
    "        a=np.random.randint(np.shape(image)[0] -batch_size)\n",
    "        batch_x = image[a:a+batch_size,:]\n",
    "        batch_y= label[a:a+batch_size,:]\n",
    "        return batch_x, batch_y\n"
   ]
  },
  {
   "cell_type": "code",
   "execution_count": 7,
   "metadata": {
    "collapsed": false
   },
   "outputs": [],
   "source": [
    "\n",
    "\n",
    "def conv2d(x,w,strides_):\n",
    "    return tf.nn.conv2d(x,w, strides = strides_, padding='SAME')\n",
    "def max_pool_2x2(x):\n",
    "    return tf.nn.max_pool(x , ksize=[1,2,2,1] ,strides = [1,2,2,1] , padding = 'SAME')\n",
    "def max_pool(x , ksize , strides , padding='SAME'):\n",
    "    return tf.nn.max_pool(x ,ksize , strides , padding )\n",
    "def make_weights_biases(layer_name , w_name , ksize ,device_name,initializer='xavier'):\n",
    "    if len(ksize)==4: # convolution filter shape [batch , row , col , color_ch]\n",
    "        out_ch=ksize[3]\n",
    "    elif len(ksize)==2: #fully connected layer shape [in_ch , output_ch]\n",
    "        out_ch=ksize[1]\n",
    "    with tf.device(device_name):\n",
    "        with tf.variable_scope(layer_name) as scope:\n",
    "            try:\n",
    "                w_conv = tf.get_variable(w_name, ksize , initializer = tf.contrib.layers.xavier_initializer())\n",
    "            except:\n",
    "                scope.reuse_variables()\n",
    "                w_conv = tf.get_variable(w_name, ksize , initializer = tf.contrib.layers.xavier_initializer())\n",
    "        \n",
    "        with tf.variable_scope(layer_name) as scope:\n",
    "            try:\n",
    "                b_conv = bias_variable([out_ch])\n",
    "            except:\n",
    "                scope.reuse_variables()\n",
    "                b_conv = bias_variable([out_ch])\n",
    "    return w_conv , b_conv \n",
    "\n",
    "\n"
   ]
  },
  {
   "cell_type": "markdown",
   "metadata": {},
   "source": [
    "# make weights and biases that is used to convolution layer "
   ]
  },
  {
   "cell_type": "code",
   "execution_count": 8,
   "metadata": {
    "collapsed": false
   },
   "outputs": [
    {
     "name": "stdout",
     "output_type": "stream",
     "text": [
      "(11, 11, 3, 300)\n",
      "(5, 5, 300, 300)\n",
      "(3, 3, 300, 300)\n",
      "(3, 3, 300, 300)\n",
      "(3, 3, 300, 300)\n"
     ]
    }
   ],
   "source": [
    "w_conv1 , b_conv1 =make_weights_biases('layer1' , 'W1' , c_ksize1 ,device_name = '/gpu:2')\n",
    "w_conv2 , b_conv2= make_weights_biases('layer2' , 'W2' , c_ksize2 ,device_name = '/gpu:2')\n",
    "w_conv3 , b_conv3= make_weights_biases('layer3' , 'W3' , c_ksize3 ,device_name = '/gpu:2')\n",
    "w_conv4 , b_conv4= make_weights_biases('layer4' , 'W4' , c_ksize4 ,device_name = '/gpu:2')\n",
    "w_conv5 , b_conv5= make_weights_biases('layer5' , 'W5' , c_ksize5 ,device_name = '/gpu:2')\n",
    "\n",
    "print w_conv1.get_shape()\n",
    "print w_conv2.get_shape()\n",
    "print w_conv3.get_shape()\n",
    "print w_conv4.get_shape()\n",
    "print w_conv5.get_shape()"
   ]
  },
  {
   "cell_type": "markdown",
   "metadata": {},
   "source": [
    "# connect Convolution layer"
   ]
  },
  {
   "cell_type": "code",
   "execution_count": 9,
   "metadata": {
    "collapsed": false
   },
   "outputs": [
    {
     "name": "stdout",
     "output_type": "stream",
     "text": [
      "Tensor(\"Reshape:0\", shape=(?, 128, 128, 3), dtype=float32)\n",
      "Tensor(\"MaxPool:0\", shape=(?, 16, 16, 300), dtype=float32, device=/device:GPU:4)\n"
     ]
    }
   ],
   "source": [
    "\n",
    "print x_image\n",
    "#conncect hidden layer \n",
    "with tf.device('/gpu:4'):\n",
    "    h_conv1 = tf.nn.relu(conv2d(x_image , w_conv1 ,c_strides1)+b_conv1)\n",
    "    h_conv1 = max_pool(h_conv1 , p_ksize1 , p_strides1)\n",
    "    print h_conv1\n",
    "    \n",
    "    #print conv2d(h_pool1 , w_conv2).get_shape()\n"
   ]
  },
  {
   "cell_type": "code",
   "execution_count": 10,
   "metadata": {
    "collapsed": false
   },
   "outputs": [
    {
     "name": "stdout",
     "output_type": "stream",
     "text": [
      "Tensor(\"MaxPool_1:0\", shape=(?, 8, 8, 300), dtype=float32, device=/device:GPU:4)\n"
     ]
    }
   ],
   "source": [
    "with tf.device('/gpu:4'):\n",
    "    h_conv2 = tf.nn.relu(conv2d(h_conv1 , w_conv2 ,c_strides2)+b_conv2)\n",
    "    h_conv2 = max_pool(h_conv2 , p_ksize2 , p_strides2)#pooling   \n",
    "    print h_conv2"
   ]
  },
  {
   "cell_type": "code",
   "execution_count": 11,
   "metadata": {
    "collapsed": false
   },
   "outputs": [
    {
     "name": "stdout",
     "output_type": "stream",
     "text": [
      "Tensor(\"Relu_2:0\", shape=(?, 8, 8, 300), dtype=float32, device=/device:GPU:4)\n"
     ]
    }
   ],
   "source": [
    "with tf.device('/gpu:4'):\n",
    "    h_conv3 = tf.nn.relu(conv2d(h_conv2 , w_conv3,c_strides3)+b_conv3)\n",
    "    print h_conv3"
   ]
  },
  {
   "cell_type": "code",
   "execution_count": 12,
   "metadata": {
    "collapsed": false
   },
   "outputs": [
    {
     "name": "stdout",
     "output_type": "stream",
     "text": [
      "Tensor(\"Relu_3:0\", shape=(?, 8, 8, 300), dtype=float32, device=/device:GPU:4)\n"
     ]
    }
   ],
   "source": [
    "with tf.device('/gpu:4'):\n",
    "    h_conv4 = tf.nn.relu(conv2d(h_conv3 , w_conv4,c_strides4)+b_conv4)\n",
    "    print h_conv4"
   ]
  },
  {
   "cell_type": "code",
   "execution_count": 13,
   "metadata": {
    "collapsed": false
   },
   "outputs": [
    {
     "name": "stdout",
     "output_type": "stream",
     "text": [
      "Tensor(\"MaxPool_2:0\", shape=(?, 4, 4, 300), dtype=float32, device=/device:GPU:4)\n"
     ]
    }
   ],
   "source": [
    "with tf.device('/gpu:4'):\n",
    "    h_conv5 = tf.nn.relu(conv2d(h_conv4, w_conv5,c_strides5)+b_conv5)\n",
    "    h_conv5= max_pool(h_conv5 , p_ksize5 , p_strides5) #pooling \n",
    "    print h_conv5"
   ]
  },
  {
   "cell_type": "code",
   "execution_count": 14,
   "metadata": {
    "collapsed": true
   },
   "outputs": [],
   "source": [
    "end_conv = h_conv5\n"
   ]
  },
  {
   "cell_type": "code",
   "execution_count": 15,
   "metadata": {
    "collapsed": false
   },
   "outputs": [],
   "source": [
    "\n",
    "end_conv_row=int(h_conv5.get_shape()[1])\n",
    "end_conv_col=int(h_conv5.get_shape()[2])\n",
    "end_conv_ch=int(h_conv5.get_shape()[3])\n",
    "#connect fully connected layer "
   ]
  },
  {
   "cell_type": "markdown",
   "metadata": {},
   "source": [
    "# flat convolution layer "
   ]
  },
  {
   "cell_type": "code",
   "execution_count": 16,
   "metadata": {
    "collapsed": true
   },
   "outputs": [],
   "source": [
    "with tf.device('/gpu:2'): # flat conv layer \n",
    "    end_flat_conv =tf.reshape(end_conv, [-1,end_conv_col*end_conv_row*end_conv_ch])"
   ]
  },
  {
   "cell_type": "markdown",
   "metadata": {},
   "source": [
    "# make weights and biases that used fully connected layer \n"
   ]
  },
  {
   "cell_type": "code",
   "execution_count": 17,
   "metadata": {
    "collapsed": true
   },
   "outputs": [],
   "source": [
    "fc_ksize1=[end_conv_col*end_conv_row*end_conv_ch,fully_ch1]\n",
    "fc_ksize2=[fully_ch1,fully_ch2]\n",
    "   "
   ]
  },
  {
   "cell_type": "code",
   "execution_count": 18,
   "metadata": {
    "collapsed": false
   },
   "outputs": [],
   "source": [
    "w_fc1 ,b_fc1 = make_weights_biases('fc1' , 'fc_W1' , fc_ksize1 ,  '/gpu:3')\n",
    "w_fc2 ,b_fc2 = make_weights_biases('fc2' , 'fc_W2' , fc_ksize2 ,  '/gpu:3')\n"
   ]
  },
  {
   "cell_type": "code",
   "execution_count": 19,
   "metadata": {
    "collapsed": true
   },
   "outputs": [],
   "source": [
    "h_fc1=tf.matmul(end_flat_conv , w_fc1 )+b_fc1\n",
    "h_fc1=tf.nn.dropout(h_fc1 , keep_prob)"
   ]
  },
  {
   "cell_type": "code",
   "execution_count": 20,
   "metadata": {
    "collapsed": true
   },
   "outputs": [],
   "source": [
    "h_fc2=tf.matmul(h_fc1 , w_fc2 )+b_fc2\n",
    "h_fc2=tf.nn.dropout(h_fc2 , keep_prob)"
   ]
  },
  {
   "cell_type": "code",
   "execution_count": 21,
   "metadata": {
    "collapsed": false
   },
   "outputs": [],
   "source": [
    "end_fc=h_fc2\n"
   ]
  },
  {
   "cell_type": "code",
   "execution_count": 22,
   "metadata": {
    "collapsed": true
   },
   "outputs": [],
   "source": [
    "\n",
    "end_ksize=[end_fc.get_shape()[1] , n_classes]   \n",
    "w_end ,b_end = make_weights_biases('fc_end' , 'fc_end_W' , end_ksize ,  '/gpu:3')\n",
    "y_conv = tf.matmul(end_fc , w_end)+b_end\n",
    "    "
   ]
  },
  {
   "cell_type": "code",
   "execution_count": 23,
   "metadata": {
    "collapsed": false
   },
   "outputs": [
    {
     "name": "stdout",
     "output_type": "stream",
     "text": [
      "it is recorded at :85\n"
     ]
    }
   ],
   "source": [
    "#dirname = '/home/ncc/notebook/mammo/result/'\n",
    "\n",
    "dirname='/home/user01/notebook/'\n",
    "    \n",
    "count=0\n",
    "while(True):\n",
    "    if not os.path.isdir(dirname):\n",
    "        os.mkdir(dirname)\n",
    "        break\n",
    "    elif not os.path.isdir(dirname + str(count)):\n",
    "        dirname=dirname+str(count)\n",
    "        os.mkdir(dirname)\n",
    "        break\n",
    "    else:\n",
    "        count+=1\n",
    "print 'it is recorded at :'+str(count)"
   ]
  },
  {
   "cell_type": "code",
   "execution_count": 24,
   "metadata": {
    "collapsed": false
   },
   "outputs": [],
   "source": [
    "f=open(dirname+\"/log.txt\",'w')"
   ]
  },
  {
   "cell_type": "code",
   "execution_count": 25,
   "metadata": {
    "collapsed": true
   },
   "outputs": [],
   "source": [
    "def get_batch_list(folder_path):\n",
    "    list_files=os.walk(folder_path).next()[2]\n",
    "    print list_files\n",
    "    ret_train_img_list=[]\n",
    "    ret_train_lab_list=[]\n",
    "    for i , ele in enumerate(list_files):\n",
    "\n",
    "        if 'train'  in ele and 'img'in ele:\n",
    "            ret_train_img_list.append(ele)\n",
    "        elif 'train' in ele  and  'lab' in ele:\n",
    "            ret_train_lab_list.append(ele)\n",
    "    return ret_train_img_list ,ret_train_lab_list "
   ]
  },
  {
   "cell_type": "code",
   "execution_count": 26,
   "metadata": {
    "collapsed": false
   },
   "outputs": [
    {
     "name": "stdout",
     "output_type": "stream",
     "text": [
      "['test_lab.npy', 'val_lab.npy', 'train_img.npy', 'test_img.npy', 'val_img.npy', 'train_lab.npy']\n"
     ]
    }
   ],
   "source": [
    "train_images , train_labels  = get_batch_list(file_locate)"
   ]
  },
  {
   "cell_type": "code",
   "execution_count": 27,
   "metadata": {
    "collapsed": false
   },
   "outputs": [
    {
     "name": "stdout",
     "output_type": "stream",
     "text": [
      "['train_img.npy']\n",
      "['train_lab.npy']\n"
     ]
    }
   ],
   "source": [
    "def atoi(text):\n",
    "    return int(text) if text.isdigit() else text\n",
    "\n",
    "def natural_keys(text):\n",
    "    return [ atoi(c) for c in re.split('(\\d+)', text) ]\n",
    "\n",
    "\n",
    "train_images.sort(key=natural_keys)\n",
    "train_labels.sort(key = natural_keys)\n",
    "print(train_images)\n",
    "print(train_labels)"
   ]
  },
  {
   "cell_type": "code",
   "execution_count": 28,
   "metadata": {
    "collapsed": true
   },
   "outputs": [],
   "source": [
    "def aug(np_img ,img_row ,img_col , color_ch, crop_img_row , crop_img_col , label):\n",
    "    \n",
    "    n_img = np.shape(np_img)[0] \n",
    "    n_ret_img = n_img*(img_row - crop_img_row) * (img_col - crop_img_col)*2\n",
    "    ret_images = np.zeros([n_ret_img ,crop_img_row , crop_img_col,color_ch])\n",
    "    len_label= np.shape(label)[1]\n",
    "    ret_labels =  np.zeros([n_ret_img  ,len_label])\n",
    "    #print \"n_augmented image size : \" , n_ret_img \n",
    "    #print \"n classes :\", len_label\n",
    "    #copy label in factor by 2014\n",
    "    count=0\n",
    "    if len(np.shape(np_img))==2:\n",
    "        np_img=np.reshape(np_img , newshape = [np.shape(np_img)[0] , img_row , img_col ,color_ch])\n",
    "        print np.shape(np_img)\n",
    "    for n  in range(len(np_img)):\n",
    "        for r in range(img_row - crop_img_row):\n",
    "            for c in range(img_col - crop_img_col):\n",
    "                \n",
    "                ret_labels[n*2 +count, : ] = label[n,:]\n",
    "                ret_labels[n*2+1+count , : ] = label[n,:]\n",
    "                cropped_img = np_img[n, r:crop_img_row +r , c:crop_img_col+c ,: ]                \n",
    "                ret_images[n*2+count,:,:,:]=cropped_img  \n",
    "                ret_images[(n*2+1)+count , :,:,:] =np.fliplr(cropped_img )\n",
    "                count+=1\n",
    "    \n",
    "    return ret_images ,ret_labels\n",
    "\n"
   ]
  },
  {
   "cell_type": "code",
   "execution_count": 29,
   "metadata": {
    "collapsed": true
   },
   "outputs": [],
   "source": [
    "def extract_test_img(np_img ,img_row ,img_col , color_ch, crop_img_row , crop_img_col ):\n",
    "    left_top =(0,0)\n",
    "    right_top =(  img_row  - crop_img_row  , 0 )\n",
    "    center =  ((img_row  - crop_img_row)/2  , (img_col - crop_img_row)/2)\n",
    "    left_buttom = (0,(img_col - crop_img_row)/2 )\n",
    "    right_buttom =  (img_row  - crop_img_row , img_col - crop_img_row)\n",
    "    \n",
    "    left_top_images  = np_img[: , left_top[0]:crop_img_row+left_top[0] , left_top[1] : crop_img_col+left_top[1] , :  ]\n",
    "    right_top_images = np_img[: , right_top[0]:crop_img_row +right_top[0], right_top[1] : crop_img_col +right_top[1], :  ]\n",
    "    center_images    = np_img[: , center[0]:crop_img_row +center[0], center[1] : crop_img_col +center[1], :  ]\n",
    "    left_buttom_images=np_img[: , left_buttom[0]:crop_img_row +left_buttom[0], left_buttom[1] : crop_img_col +left_buttom[1], :  ]\n",
    "    right_buttom_images= np_img[: , right_buttom[0]:crop_img_row+right_buttom[0] , right_buttom[1] : crop_img_col +right_buttom[1] , :  ]\n",
    "\n",
    "    \n",
    "        \n",
    "    return left_top_images , right_top_images , center_images , left_buttom_images , right_buttom_images \n",
    "\n"
   ]
  },
  {
   "cell_type": "markdown",
   "metadata": {},
   "source": [
    "# save and restore Model"
   ]
  },
  {
   "cell_type": "code",
   "execution_count": 30,
   "metadata": {
    "collapsed": false
   },
   "outputs": [],
   "source": [
    "if save_flag == True:\n",
    "    global_step = tf.Variable(0 , trainable = False ,name = 'global_step' )\n",
    "\n",
    "    saver = tf.train.Saver()\n",
    "    sess = tf.Session()\n",
    "    sess.run(tf.initialize_all_variables())\n",
    "    save_path = './ckpt'\n",
    "else:\n",
    "    sess = tf.Session()\n",
    "    sess.run(tf.initialize_all_variables())"
   ]
  },
  {
   "cell_type": "code",
   "execution_count": 31,
   "metadata": {
    "collapsed": false
   },
   "outputs": [],
   "source": [
    "if restore_flag == True:\n",
    "    ckpt = tf.train.get_checkpoint_state(save_path)\n",
    "    if ckpt and ckpt.model_checkpoint_path:\n",
    "        print ckpt.model_checkpoint_path\n",
    "        saver.restore(sess , ckpt.model_checkpoint_path)"
   ]
  },
  {
   "cell_type": "code",
   "execution_count": 32,
   "metadata": {
    "collapsed": false
   },
   "outputs": [],
   "source": [
    "if save_flag == True:\n",
    "    a=sess.run(global_step)\n",
    "    print a"
   ]
  },
  {
   "cell_type": "code",
   "execution_count": null,
   "metadata": {
    "collapsed": false
   },
   "outputs": [],
   "source": [
    "with tf.device('/gpu:3'):\n",
    "#sm_conv= tf.nn.softmax(y_conv)\n",
    "    #cross_entropy = -tf.reduce_sum(y_*tf.log(y_conv))\n",
    "    start_time = time.time()\n",
    "\n",
    "    regular=0.01*(tf.reduce_sum(tf.square(y_conv)))\n",
    "    cost = tf.reduce_mean(tf.nn.softmax_cross_entropy_with_logits( y_conv, y_))\n",
    "with tf.device('/gpu:4'):\n",
    "    cost = cost+regular\n",
    "    train_step = tf.train.AdamOptimizer(1e-4).minimize(cost) #1e-4\n",
    "    with tf.name_scope(\"accuracy\"):\n",
    "        with tf.name_scope('correct_prediction'):\n",
    "            correct_prediction = tf.equal(tf.argmax(y_conv,1) ,tf.argmax(y_,1))\n",
    "        with tf.name_scope('accuracy'):\n",
    "            accuracy = tf.reduce_mean(tf.cast(correct_prediction , \"float\")) \n",
    "\n",
    "\n",
    "sess = tf.Session()\n",
    "sess.run(tf.initialize_all_variables())"
   ]
  },
  {
   "cell_type": "code",
   "execution_count": null,
   "metadata": {
    "collapsed": false
   },
   "outputs": [
    {
     "name": "stdout",
     "output_type": "stream",
     "text": [
      "0\n",
      "step 0 , training  accuracy 0.333333\n",
      "step 0 , loss : 122.702\n",
      "step 0 , validation  accuracy 0.494438\n",
      "step 0 , validation loss : 10798.3\n",
      "100\n",
      "step 100 , training  accuracy 0.366667\n",
      "step 100 , loss : 0.894054\n",
      "step 100 , validation  accuracy 0.49408\n",
      "step 100 , validation loss : 11.4345\n",
      "200\n",
      "step 200 , training  accuracy 0.5\n",
      "step 200 , loss : 0.745456\n",
      "step 200 , validation  accuracy 0.519555\n",
      "step 200 , validation loss : 3.71782\n",
      "300\n",
      "step 300 , training  accuracy 0.533333\n",
      "step 300 , loss : 0.702501\n",
      "step 300 , validation  accuracy 0.614281\n",
      "step 300 , validation loss : 1.21309\n",
      "400\n",
      "step 400 , training  accuracy 0.633333\n",
      "step 400 , loss : 0.687793\n",
      "step 400 , validation  accuracy 0.576964\n",
      "step 400 , validation loss : 1.53567\n",
      "500\n",
      "step 500 , training  accuracy 0.5\n",
      "step 500 , loss : 0.702246\n",
      "step 500 , validation  accuracy 0.619663\n",
      "step 500 , validation loss : 1.56586\n",
      "600\n",
      "step 600 , training  accuracy 0.733333\n",
      "step 600 , loss : 0.658534\n",
      "step 600 , validation  accuracy 0.618586\n",
      "step 600 , validation loss : 1.64623\n",
      "700\n",
      "step 700 , training  accuracy 0.7\n",
      "step 700 , loss : 0.655769\n",
      "step 700 , validation  accuracy 0.635092\n",
      "step 700 , validation loss : 1.40635\n",
      "800\n",
      "step 800 , training  accuracy 0.6\n",
      "step 800 , loss : 0.669034\n",
      "step 800 , validation  accuracy 0.657338\n",
      "step 800 , validation loss : 1.49909\n",
      "900\n",
      "step 900 , training  accuracy 0.8\n",
      "step 900 , loss : 0.65555\n",
      "step 900 , validation  accuracy 0.678866\n",
      "step 900 , validation loss : 1.43931\n",
      "1000\n",
      "step 1000 , training  accuracy 0.533333\n",
      "step 1000 , loss : 0.679692\n",
      "step 1000 , validation  accuracy 0.556871\n",
      "step 1000 , validation loss : 3.08046\n",
      "1100\n",
      "step 1100 , training  accuracy 0.7\n",
      "step 1100 , loss : 0.657328\n",
      "step 1100 , validation  accuracy 0.656261\n",
      "step 1100 , validation loss : 2.16655\n",
      "1200\n",
      "step 1200 , training  accuracy 0.333333\n",
      "step 1200 , loss : 0.768971\n",
      "step 1200 , validation  accuracy 0.559383\n",
      "step 1200 , validation loss : 3.27881\n",
      "1300\n",
      "step 1300 , training  accuracy 0.766667\n",
      "step 1300 , loss : 0.625763\n",
      "step 1300 , validation  accuracy 0.691066\n",
      "step 1300 , validation loss : 2.04988\n"
     ]
    }
   ],
   "source": [
    "\n",
    "\n",
    "\n",
    "if divide_flag ==True:\n",
    "    n_batch =len(train_images)\n",
    "    batch_count=0\n",
    "\n",
    "for i in range(iterate): \n",
    "    #print i\n",
    "    if divide_flag ==True:\n",
    "        print batch_count , i\n",
    "        if batch_count >= n_batch:    \n",
    "            train_img =np.load(file_locate+train_images[batch_count])\n",
    "            train_lab =np.load(file_locate+train_labels[batch_count])\n",
    "        \n",
    "    batch_xs , batch_ys = next_batch(batch_size, train_img , train_lab)    \n",
    "    if i%100 ==0: # in here add to validation \n",
    "        try:\n",
    "            if aug_flag == True:\n",
    "                color_ch = in_ch\n",
    "                val_images=extract_test_img(val_img ,128 , 128 , color_ch   ,crop_img_row =118 , crop_img_col =118 )\n",
    "                val_acc_list=[]\n",
    "                val_loss_list=[]\n",
    "                for img_ind ,ele  in enumerate(val_images): \n",
    "                    val_accuracy = sess.run( accuracy , feed_dict={x:ele , y_:val_lab , keep_prob: 1.0})        \n",
    "                    val_loss = sess.run(cost , feed_dict = {x:ele , y_: val_lab , keep_prob: 1.0})\n",
    "\n",
    "                    val_acc_list.append(val_accuracy)\n",
    "                    val_loss_list.append(val_loss)\n",
    "\n",
    "                val_acc_list=np.asarray(val_acc_list)\n",
    "                val_loss_list=np.asarray(val_loss_list)\n",
    "                val_acc=np.mean(val_acc_list)\n",
    "                val_loss=np.mean(val_loss_list)\n",
    "\n",
    "\n",
    "                train_images=extract_test_img(val_img ,128 , 128 , color_ch   ,crop_img_row =118 , crop_img_col =118 )\n",
    "                train_acc_list=[]\n",
    "                train_loss_list=[]\n",
    "                for img_ind ,ele  in enumerate(train_images): \n",
    "                    train_accuracy = sess.run( accuracy , feed_dict={x:ele , y_:batch_ys , keep_prob: 1.0})        \n",
    "                    train_loss = sess.run(cost , feed_dict = {x:ele , y_: batch_ys , keep_prob: 1.0})\n",
    "\n",
    "                    train_acc_list.append(train_accuracy)\n",
    "                    train_loss_list.append(train_loss)\n",
    "\n",
    "                train_acc_list=np.asarray(train_acc_list)\n",
    "                train_loss_list=np.asarray(train_loss_list)\n",
    "                train_acc=np.mean(train_acc_list)\n",
    "                train_loss=np.mean(train_loss_list)\n",
    "\n",
    "\n",
    "\n",
    "            else:\n",
    "                val_accuracy = sess.run( accuracy , feed_dict={x:val_img , y_:val_lab , keep_prob: 1.0})        \n",
    "                val_loss = sess.run(cost , feed_dict = {x:val_img , y_: val_lab , keep_prob: 1.0})\n",
    "\n",
    "                train_accuracy = sess.run( accuracy , feed_dict={x:batch_xs , y_:batch_ys , keep_prob: 1.0})        \n",
    "                train_loss = sess.run(cost , feed_dict = {x:batch_xs, y_: batch_ys, keep_prob: 1.0})\n",
    "\n",
    "            #result = sess.run(sm_conv , feed_dict = {x:val_img , y_:batch_ys , keep_prob :1.0})\n",
    "            print i\n",
    "            print(\"step %d , training  accuracy %g\" %(i,train_accuracy))\n",
    "            print(\"step %d , loss : %g\" %(i,train_loss))\n",
    "            train_str = 'step:\\t'+str(i)+'\\tval_loss:\\t'+str(train_loss) +'\\tval accuracy:\\t'+str(train_accuracy)+'\\n'\n",
    "\n",
    "            print(\"step %d , validation  accuracy %g\" %(i,val_accuracy))\n",
    "            print(\"step %d , validation loss : %g\" %(i,val_loss))\n",
    "            val_str = 'step:\\t'+str(i)+'\\tval_loss:\\t'+str(val_loss) +'\\tval accuracy:\\t'+str(val_accuracy)+'\\n'\n",
    "\n",
    "\n",
    "            f.write(val_str)\n",
    "            f.write(train_str)\n",
    "            if divide_flag ==True:\n",
    "                batch_count+=1\n",
    "        except :\n",
    "            val_acc_list=[]\n",
    "            val_loss_list=[]\n",
    "            train_acc_list=[]\n",
    "            train_loss_list=[]\n",
    "            n_divide=len(val_img)/batch_size\n",
    "            j=0\n",
    "            if aug_flag == True:\n",
    "                for j in range(n_divide):\n",
    "\n",
    "                    # j*batch_size :(j+1)*batch_size\n",
    "                    val_batch_xs =val_img[ j*batch_size :(j+1)*batch_size] \n",
    "                    val_batch_ys=val_lab[ j*batch_size :(j+1)*batch_size]\n",
    "                    val_images = extract_test_img( val_batch_xs  ,128 , 128 , color_ch   ,crop_img_row =118 , crop_img_col =118 )\n",
    "                    \n",
    "                    for img_ind, ele in enumerate(val_images):                        \n",
    "                        val_accuracy,val_loss = sess.run([accuracy ,cost], feed_dict={x:ele , y_:val_batch_ys , keep_prob: 1.0})        \n",
    "                        val_acc_list.append(float(val_accuracy))\n",
    "                        val_loss_list.append(float(val_loss))\n",
    "                    #right above code have to modify\n",
    "                val_batch_xs = val_img[ (j+1)*batch_size :  ] \n",
    "                val_batch_ys = val_lab[ (j+1)*batch_size :  ]\n",
    "                val_images = extract_test_img( val_batch_xs  ,128 , 128 , color_ch   ,crop_img_row =118 , crop_img_col =118 )\n",
    "                for img_ind , ele in enumerate(val_images):                        \n",
    "                    val_accuracy,val_loss = sess.run([accuracy ,cost], feed_dict={x:ele , y_:val_batch_ys , keep_prob: 1.0})        \n",
    "                    val_acc_list.append(float(val_accuracy))\n",
    "                    val_loss_list.append(float(val_loss))\n",
    "                \n",
    "                val_acc_list=np.asarray(val_acc_list)\n",
    "                val_loss_list= np.asarray(val_loss_list)\n",
    "\n",
    "                val_acc=np.mean(val_acc_list)\n",
    "                val_loss = np.mean(val_loss_list)\n",
    "\n",
    "                #result = sess.run(sm_conv , feed_dict = {x:val_img , y_:batch_ys , keep_prob :1.0})\n",
    "                train_images = extract_test_img( batch_xs  ,128 , 128 , color_ch   ,crop_img_row =118 , crop_img_col =118 )\n",
    "                for img_ind, ele in enumerate(train_images):\n",
    "                    train_accuracy,train_loss = sess.run([accuracy ,cost], feed_dict={x:ele , y_:batch_ys , keep_prob: 1.0})        \n",
    "                    train_acc_list.append(float(train_accuracy))\n",
    "                    train_loss_list.append(float(train_loss))\n",
    "                train_acc_list=np.asarray(train_acc_list) \n",
    "                train_loss_list= np.asarray(train_loss_list)\n",
    "                train_accuracy=np.mean(train_acc_list)\n",
    "                train_loss=np.mean(train_loss_list)\n",
    "            else:\n",
    "                \n",
    "                for j in range(n_divide):\n",
    "                    # j*batch_size :(j+1)*batch_size\n",
    "                    val_batch_xs =  val_img[ j*batch_size :(j+1)*batch_size] \n",
    "                    val_batch_ys =  val_lab[ j*batch_size :(j+1)*batch_size]                        \n",
    "                    val_accuracy,val_loss = sess.run([accuracy ,cost], feed_dict={x:val_batch_xs , y_:val_batch_ys , keep_prob: 1.0})        \n",
    "                    list_acc.append(float(val_accuracy))\n",
    "                    list_loss.append(float(val_loss))\n",
    "                    #right above code have to modify\n",
    "                val_batch_xs = val_img[ (j+1)*batch_size :  ] \n",
    "                val_batch_ys = val_lab[ (j+1)*batch_size :  ]\n",
    "                list_acc=np.asarray(list_acc)\n",
    "                list_loss= np.asarray(list_loss)\n",
    "                val_accuracy=np.mean(list_acc)\n",
    "                val_loss = np.mean(list_loss)\n",
    "\n",
    "                #result = sess.run(sm_conv , feed_dict = {x:val_img , y_:batch_ys , keep_prob :1.0})\n",
    "\n",
    "                train_accuracy = sess.run( accuracy , feed_dict={x:batch_xs , y_:batch_ys , keep_prob: 1.0})        \n",
    "                train_loss = sess.run(cost , feed_dict = {x:batch_xs, y_: batch_ys, keep_prob: 1.0})\n",
    "                                      \n",
    "                                      \n",
    "                                      \n",
    "            print(\"step %d , training  accuracy %g\" %(i,train_accuracy))\n",
    "            print(\"step %d , loss : %g\" %(i,train_loss))\n",
    "            train_str = 'step:\\t'+str(i)+'\\tval_loss:\\t'+str(train_loss) +'\\tval accuracy:\\t'+str(train_accuracy)+'\\n'\n",
    "\n",
    "            print(\"step %d , validation  accuracy %g\" %(i,val_accuracy))\n",
    "            print(\"step %d , validation loss : %g\" %(i,val_loss))\n",
    "            val_str = 'step:\\t'+str(i)+'\\tval_loss:\\t'+str(val_loss) +'\\tval accuracy:\\t'+str(val_accuracy)+'\\n'\n",
    "\n",
    "            f.write(val_str)\n",
    "            f.write(train_str)\n",
    "            if divide_flag == True:\n",
    "                batch_count+=1\n",
    "        if save_flag == True:\n",
    "            global_ind=global_step.assign(i).eval()\n",
    "            saver.save(sess , save_path + \"/model.ckpt\", global_step = global_ind)\n",
    "            print 'model saved'\n",
    "    if aug_flag == True:\n",
    "        aug_batch_xs , aug_batch_ys=aug(np_img=batch_xs[:int(batch_size)] ,img_row= img_row  ,img_col =img_col\\\n",
    "                                        , color_ch=3, crop_img_row =118, crop_img_col =118, label = batch_ys )\n",
    "        \n",
    "        #after augmentation process ,\n",
    "        #print 'a'\n",
    "        share= len(aug_batch_xs) / batch_size\n",
    "        #print share\n",
    "        for i in xrange(share):\n",
    "            #print i\n",
    "            batch_xs=aug_batch_xs[i*batch_size : (i+1)*batch_size,:,:,:]  \n",
    "            batch_ys=aug_batch_ys[i*batch_size : (i+1)*batch_size,:]  \n",
    "            sess.run(train_step ,feed_dict={x: batch_xs, y_:batch_ys , keep_prob : 0.7})\n",
    "            #print 'training'\n",
    "        #print (i+1)*batch_size \n",
    "        #batch_xs=aug_batch_xs[(i+1)*batch_size :,:,:,:]  \n",
    "        #batch_ys = aug_batch_ys[(i+1)*batch_size:,:]  \n",
    "        #sess.run(train_step ,feed_dict={x: batch_xs, y_:batch_ys , keep_prob : 0.7})\n",
    "        #print 'last training'\n",
    "        #print len(aug_batch_xs)\n",
    "        share= len(aug_batch_xs) / batch_size\n",
    "\n",
    "        \n",
    "    else:\n",
    "        sess.run(train_step ,feed_dict={x: batch_xs, y_:batch_ys , keep_prob : 0.7})\n",
    "    \n",
    "print(\"--- Training Time : %s ---\" % (time.time() - start_time))\n",
    "train_time=\"--- Training Time : ---:\\t\" +str(time.time() - start_time)\n",
    "f.write(train_time)"
   ]
  },
  {
   "cell_type": "code",
   "execution_count": null,
   "metadata": {
    "collapsed": false
   },
   "outputs": [],
   "source": [
    "try:\n",
    "    test_accuracy = sess.run( accuracy , feed_dict={x:test_img , y_:test_lab , keep_prob: 1.0})        \n",
    "    test_loss = sess.run(cost , feed_dict = {x:test_img , y_: test_lab , keep_prob: 1.0})\n",
    "\n",
    "    #result = sess.run(sm_conv , feed_dict = {x:test_img , y_:batch_ys , keep_prob :1.0})\n",
    "    print(\"step %d , testidation  accuracy %g\" %(i,test_accuracy))\n",
    "    print(\"step %d , testidation loss : %g\" %(i,test_loss))\n",
    "    test_str = 'step:\\t'+str(i)+'\\ttest_loss:\\t'+str(test_loss) +'\\ttest accuracy:\\t'+str(test_accuracy)+'\\n'\n",
    "\n",
    "    f.write(test_str)\n",
    "except :\n",
    "    list_acc=[]\n",
    "    list_loss=[]\n",
    "    n_divide=len(test_img)/batch_size\n",
    "    for j in range(n_divide):\n",
    "\n",
    "        # j*batch_size :(j+1)*batch_size\n",
    "        test_accuracy,test_loss = sess.run([accuracy ,cost], feed_dict={x:test_img[ j*batch_size :(j+1)*batch_size] , y_:test_lab[ j*batch_size :(j+1)*batch_size ] , keep_prob: 1.0})        \n",
    "        list_acc.append(float(test_accuracy))\n",
    "        list_loss.append(float(test_loss))\n",
    "    test_accuracy , test_loss=sess.run([accuracy,cost] , feed_dict={x:test_img[(j+1)*batch_size : ] , y_:test_lab[(j+1)*(batch_size) : ] , keep_prob : 1.0})\n",
    "    #right above code have to modify\n",
    "\n",
    "    list_acc.append(test_accuracy)\n",
    "    list_loss.append(test_loss)\n",
    "    list_acc=np.asarray(list_acc)\n",
    "    list_loss= np.asarray(list_loss)\n",
    "\n",
    "    test_accuracy=np.mean(list_acc)\n",
    "    test_loss = np.mean(list_loss)\n",
    "\n",
    "    #result = sess.run(sm_conv , feed_dict = {x:test_img , y_:batch_ys , keep_prob :1.0})\n",
    "    print(\"step %d , testidation  accuracy %g\" %(i,test_accuracy))\n",
    "    print(\"step %d , testidation loss : %g\" %(i,test_loss))\n",
    "    test_str = 'step:\\t'+str(i)+'\\ttest_loss:\\t'+str(test_loss) +'\\ttest accuracy:\\t'+str(test_accuracy)+'\\n'\n",
    "\n",
    "    f.write(test_str)\n"
   ]
  },
  {
   "cell_type": "code",
   "execution_count": null,
   "metadata": {
    "collapsed": true
   },
   "outputs": [],
   "source": [
    "sess.close()\n"
   ]
  },
  {
   "cell_type": "code",
   "execution_count": null,
   "metadata": {
    "collapsed": true
   },
   "outputs": [],
   "source": []
  },
  {
   "cell_type": "code",
   "execution_count": null,
   "metadata": {
    "collapsed": true
   },
   "outputs": [],
   "source": []
  },
  {
   "cell_type": "code",
   "execution_count": null,
   "metadata": {
    "collapsed": true
   },
   "outputs": [],
   "source": []
  }
 ],
 "metadata": {
  "anaconda-cloud": {},
  "kernelspec": {
   "display_name": "Python 2",
   "language": "python",
   "name": "python2"
  },
  "language_info": {
   "codemirror_mode": {
    "name": "ipython",
    "version": 2
   },
   "file_extension": ".py",
   "mimetype": "text/x-python",
   "name": "python",
   "nbconvert_exporter": "python",
   "pygments_lexer": "ipython2",
   "version": "2.7.6"
  }
 },
 "nbformat": 4,
 "nbformat_minor": 0
}
